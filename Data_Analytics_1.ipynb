{
  "nbformat": 4,
  "nbformat_minor": 0,
  "metadata": {
    "colab": {
      "name": "Data_Analytics-1.ipynb",
      "provenance": [],
      "include_colab_link": true
    },
    "kernelspec": {
      "name": "python3",
      "display_name": "Python 3"
    }
  },
  "cells": [
    {
      "cell_type": "markdown",
      "metadata": {
        "id": "view-in-github",
        "colab_type": "text"
      },
      "source": [
        "<a href=\"https://colab.research.google.com/github/Vishal-Work/data_analyst/blob/main/Data_Analytics_1.ipynb\" target=\"_parent\"><img src=\"https://colab.research.google.com/assets/colab-badge.svg\" alt=\"Open In Colab\"/></a>"
      ]
    },
    {
      "cell_type": "code",
      "metadata": {
        "id": "RT8PGurpeYTA"
      },
      "source": [
        "import numpy as np\n",
        "import pandas as pd\n",
        "from scipy import stats"
      ],
      "execution_count": null,
      "outputs": []
    },
    {
      "cell_type": "code",
      "metadata": {
        "id": "bzVAswy1fXMR",
        "colab": {
          "base_uri": "https://localhost:8080/"
        },
        "outputId": "61f008e6-65eb-473d-9878-f14cde8adf5a"
      },
      "source": [
        "x= np.array([21, 12,12,13, 13, 4, 5,32])\n",
        "y=np.mean(x)\n",
        "w=np.sort(x)\n",
        "z=np.median(w)\n",
        "print(y,z)"
      ],
      "execution_count": null,
      "outputs": [
        {
          "output_type": "stream",
          "name": "stdout",
          "text": [
            "14.0 12.5\n"
          ]
        }
      ]
    },
    {
      "cell_type": "code",
      "metadata": {
        "id": "n2zE-lSYfzLh",
        "colab": {
          "base_uri": "https://localhost:8080/"
        },
        "outputId": "c1151c9e-657e-46fb-90f0-ae6c2c1a1897"
      },
      "source": [
        "print(stats.mode(x))"
      ],
      "execution_count": null,
      "outputs": [
        {
          "output_type": "stream",
          "name": "stdout",
          "text": [
            "ModeResult(mode=array([12]), count=array([2]))\n"
          ]
        }
      ]
    },
    {
      "cell_type": "code",
      "metadata": {
        "colab": {
          "base_uri": "https://localhost:8080/"
        },
        "id": "b30WOrnkfOtH",
        "outputId": "09a69f58-3f88-4446-fde6-6829321ecaa0"
      },
      "source": [
        "from collections import Counter\n",
        "\n",
        "data = [1,1,1,8,5,4,4]\n",
        "freq = Counter(data)\n",
        "print(freq)\n",
        "mostfreq = freq.most_common()\n",
        "print(mostfreq)"
      ],
      "execution_count": null,
      "outputs": [
        {
          "output_type": "stream",
          "name": "stdout",
          "text": [
            "Counter({1: 3, 4: 2, 8: 1, 5: 1})\n",
            "[(1, 3), (4, 2), (8, 1), (5, 1)]\n"
          ]
        }
      ]
    },
    {
      "cell_type": "code",
      "metadata": {
        "id": "98zEAFlRwI32",
        "colab": {
          "base_uri": "https://localhost:8080/"
        },
        "outputId": "02147735-5b6b-46a8-9d1d-fb75076c0437"
      },
      "source": [
        "#range\n",
        "np.ptp(x)"
      ],
      "execution_count": null,
      "outputs": [
        {
          "output_type": "execute_result",
          "data": {
            "text/plain": [
              "28"
            ]
          },
          "metadata": {},
          "execution_count": 6
        }
      ]
    },
    {
      "cell_type": "code",
      "metadata": {
        "id": "exKM3X4PwdiF",
        "colab": {
          "base_uri": "https://localhost:8080/"
        },
        "outputId": "31f825ab-f04f-4443-b5c7-73b7e0074d30"
      },
      "source": [
        "#percentiles,quartiles,interquartile range\n",
        "q1=np.percentile(x,25)\n",
        "q2=np.percentile(x,50)\n",
        "q3=np.percentile(x,75)\n",
        "iq=q3-q1\n",
        "iq"
      ],
      "execution_count": null,
      "outputs": [
        {
          "output_type": "execute_result",
          "data": {
            "text/plain": [
              "4.75"
            ]
          },
          "metadata": {},
          "execution_count": 7
        }
      ]
    },
    {
      "cell_type": "code",
      "metadata": {
        "id": "21FraZqchZ_n",
        "colab": {
          "base_uri": "https://localhost:8080/"
        },
        "outputId": "1e7f3a70-9f05-4f25-b2a0-10cc589a31fb"
      },
      "source": [
        "t=np.var(x)\n",
        "u=np.std(x)\n",
        "print(t,u)"
      ],
      "execution_count": null,
      "outputs": [
        {
          "output_type": "stream",
          "name": "stdout",
          "text": [
            "70.5 8.396427811873332\n"
          ]
        }
      ]
    },
    {
      "cell_type": "code",
      "metadata": {
        "id": "mskubYZZhhbO",
        "colab": {
          "base_uri": "https://localhost:8080/"
        },
        "outputId": "7463bd96-a34c-492c-9f8d-fdca8236075c"
      },
      "source": [
        "import statistics\n",
        "statistics.pstdev(x) #POPULATION SD"
      ],
      "execution_count": null,
      "outputs": [
        {
          "output_type": "execute_result",
          "data": {
            "text/plain": [
              "8.366600265340756"
            ]
          },
          "metadata": {},
          "execution_count": 10
        }
      ]
    },
    {
      "cell_type": "code",
      "metadata": {
        "id": "cG5SwVEBhyHV",
        "colab": {
          "base_uri": "https://localhost:8080/"
        },
        "outputId": "54ca7943-e4f3-48c4-973a-b926990f0026"
      },
      "source": [
        "statistics.stdev(x)  # SAMPLE SD"
      ],
      "execution_count": null,
      "outputs": [
        {
          "output_type": "execute_result",
          "data": {
            "text/plain": [
              "8.94427190999916"
            ]
          },
          "metadata": {},
          "execution_count": 11
        }
      ]
    },
    {
      "cell_type": "code",
      "metadata": {
        "id": "ri7VCxc1iGht",
        "colab": {
          "base_uri": "https://localhost:8080/"
        },
        "outputId": "96b7e551-971a-4905-93ae-9fe6a91d01ec"
      },
      "source": [
        "from scipy.stats import skew\n",
        "skew(x)"
      ],
      "execution_count": null,
      "outputs": [
        {
          "output_type": "execute_result",
          "data": {
            "text/plain": [
              "0.9350480949392664"
            ]
          },
          "metadata": {},
          "execution_count": 12
        }
      ]
    },
    {
      "cell_type": "code",
      "metadata": {
        "id": "iLVHjJ7pvCuK",
        "colab": {
          "base_uri": "https://localhost:8080/"
        },
        "outputId": "3fcf4a6c-7601-4371-f205-346c70f6a090"
      },
      "source": [
        "from scipy.stats import kurtosis \n",
        "kurtosis(x)"
      ],
      "execution_count": null,
      "outputs": [
        {
          "output_type": "execute_result",
          "data": {
            "text/plain": [
              "0.11785121472762938"
            ]
          },
          "metadata": {},
          "execution_count": 13
        }
      ]
    },
    {
      "cell_type": "code",
      "metadata": {
        "id": "muOCGqEAiUF1",
        "colab": {
          "base_uri": "https://localhost:8080/",
          "height": 265
        },
        "outputId": "79404b20-36cb-483b-d0a8-05308ee0377d"
      },
      "source": [
        "from matplotlib import pyplot as plt\n",
        "\n",
        "plt.boxplot(x,patch_artist=False,vert=False)\n",
        "plt.show()"
      ],
      "execution_count": null,
      "outputs": [
        {
          "output_type": "display_data",
          "data": {
            "image/png": "[encoded data removed]",
            "text/plain": [
              "<Figure size 432x288 with 1 Axes>"
            ]
          },
          "metadata": {
            "needs_background": "light"
          }
        }
      ]
    },
    {
      "cell_type": "code",
      "metadata": {
        "id": "-5hXYpSkBmUQ",
        "colab": {
          "base_uri": "https://localhost:8080/"
        },
        "outputId": "69474fe9-bf39-46bf-929c-ac0b1cda9539"
      },
      "source": [
        "from scipy.stats import variation  \n",
        "k=variation(x)  # coefficient of variation\n",
        "k"
      ],
      "execution_count": null,
      "outputs": [
        {
          "output_type": "execute_result",
          "data": {
            "text/plain": [
              "0.5997448437052381"
            ]
          },
          "metadata": {},
          "execution_count": 15
        }
      ]
    },
    {
      "cell_type": "code",
      "metadata": {
        "id": "nhVvZ44w6Rat",
        "colab": {
          "base_uri": "https://localhost:8080/"
        },
        "outputId": "68e95489-89e4-4a76-bf71-7e0835f2c0a8"
      },
      "source": [
        "print(stats.gmean([2,8]))\n"
      ],
      "execution_count": null,
      "outputs": [
        {
          "output_type": "stream",
          "name": "stdout",
          "text": [
            "4.0\n"
          ]
        }
      ]
    }
  ]
}